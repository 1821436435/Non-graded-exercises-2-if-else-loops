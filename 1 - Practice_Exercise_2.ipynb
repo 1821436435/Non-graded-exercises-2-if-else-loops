{
 "cells": [
  {
   "cell_type": "markdown",
   "metadata": {},
   "source": [
    "1. Ask user to enter a string and check that it is made up only alphabets:"
   ]
  },
  {
   "cell_type": "code",
   "execution_count": 17,
   "metadata": {},
   "outputs": [
    {
     "name": "stdout",
     "output_type": "stream",
     "text": [
      "The string is made up only of alphabets.\n"
     ]
    }
   ],
   "source": [
    "user_input = input(\"Please enter a string: \")\n",
    "\n",
    "\n",
    "if user_input.isalpha():\n",
    "    print(\"The string is made up only of alphabets.\")\n",
    "else:\n",
    "    print(\"The string contains non-alphabet characters.\")"
   ]
  },
  {
   "cell_type": "markdown",
   "metadata": {},
   "source": [
    "2. Now, make sure that the string is made up of both alphabets and numbers:\n",
    "\n",
    "TRY using isalnum() function and then entering only alhpabets in the string and see what happens."
   ]
  },
  {
   "cell_type": "code",
   "execution_count": 18,
   "metadata": {},
   "outputs": [
    {
     "name": "stdout",
     "output_type": "stream",
     "text": [
      "The string does not contain both alphabets and numbers.\n"
     ]
    }
   ],
   "source": [
    "user_input = input(\"Please enter a string: \")\n",
    "\n",
    "if user_input.isalnum() and any(char.isalpha() for char in user_input) and any(char.isdigit() for char in user_input):\n",
    "    print(\"The string is made up of both alphabets and numbers.\")\n",
    "else:\n",
    "    print(\"The string does not contain both alphabets and numbers.\")"
   ]
  },
  {
   "cell_type": "markdown",
   "metadata": {},
   "source": [
    "3. Now, make sure that the string is made up of both alphabets and at least one number:\n"
   ]
  },
  {
   "cell_type": "code",
   "execution_count": 19,
   "metadata": {},
   "outputs": [
    {
     "name": "stdout",
     "output_type": "stream",
     "text": [
      "The string does not meet the requirements; it must contain both alphabets and at least one number.\n"
     ]
    }
   ],
   "source": [
    "user_input = input(\"Please enter a string: \")\n",
    "if user_input.isalnum() and any(char.isalpha() for char in user_input) and any(char.isdigit() for char in user_input):\n",
    "    print(\"The string is made up of both alphabets and at least one number.\")\n",
    "else:\n",
    "    print(\"The string does not meet the requirements; it must contain both alphabets and at least one number.\")"
   ]
  },
  {
   "cell_type": "markdown",
   "metadata": {},
   "source": [
    "4. Now, make sure that the string is made up of both alphabets, at least one number, and at least one special character:"
   ]
  },
  {
   "cell_type": "code",
   "execution_count": 20,
   "metadata": {},
   "outputs": [
    {
     "name": "stdout",
     "output_type": "stream",
     "text": [
      "The string does not meet the requirements; it must contain alphabets, at least one number, and at least one special character.\n"
     ]
    }
   ],
   "source": [
    "user_input = input(\"Please enter a string: \")\n",
    "\n",
    "if (\n",
    "    any(char.isalpha() for char in user_input) and  \n",
    "    any(char.isdigit() for char in user_input) and  \n",
    "    any(not char.isalnum() for char in user_input)  \n",
    "):\n",
    "    print(\"The string is made up of alphabets, at least one number, and at least one special character.\")\n",
    "else:\n",
    "    print(\"The string does not meet the requirements; it must contain alphabets, at least one number, and at least one special character.\")"
   ]
  },
  {
   "cell_type": "markdown",
   "metadata": {},
   "source": [
    "5. Now, modify the above code so that if the user enters an invalid string, the program should ask the user to enter another string again, and keep asking until a valid string has been entered."
   ]
  },
  {
   "cell_type": "code",
   "execution_count": 22,
   "metadata": {},
   "outputs": [
    {
     "name": "stdout",
     "output_type": "stream",
     "text": [
      "Invalid string. Please enter a string that contains alphabets, at least one number, and at least one special character.\n",
      "Invalid string. Please enter a string that contains alphabets, at least one number, and at least one special character.\n",
      "Invalid string. Please enter a string that contains alphabets, at least one number, and at least one special character.\n",
      "Invalid string. Please enter a string that contains alphabets, at least one number, and at least one special character.\n",
      "The string is valid. It is made up of alphabets, at least one number, and at least one special character.\n"
     ]
    }
   ],
   "source": [
    "while True:  \n",
    "    user_input = input(\"Please enter a string: \")\n",
    "    \n",
    "    if (\n",
    "        any(char.isalpha() for char in user_input) and  \n",
    "        any(char.isdigit() for char in user_input) and  \n",
    "        any(not char.isalnum() for char in user_input)  \n",
    "    ):\n",
    "        print(\"The string is valid. It is made up of alphabets, at least one number, and at least one special character.\")\n",
    "        break  \n",
    "    else:\n",
    "        print(\"Invalid string. Please enter a string that contains alphabets, at least one number, and at least one special character.\")"
   ]
  }
 ],
 "metadata": {
  "kernelspec": {
   "display_name": "Python 3",
   "language": "python",
   "name": "python3"
  },
  "language_info": {
   "codemirror_mode": {
    "name": "ipython",
    "version": 3
   },
   "file_extension": ".py",
   "mimetype": "text/x-python",
   "name": "python",
   "nbconvert_exporter": "python",
   "pygments_lexer": "ipython3",
   "version": "3.12.5"
  }
 },
 "nbformat": 4,
 "nbformat_minor": 2
}
